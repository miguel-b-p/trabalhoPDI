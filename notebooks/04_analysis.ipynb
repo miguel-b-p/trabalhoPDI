{
 "cells": [
  {
   "cell_type": "markdown",
   "metadata": {},
   "source": [
    "# 📊 Análise e Visualização de Resultados\n",
    "\n",
    "Este notebook demonstra como analisar e visualizar os resultados dos benchmarks usando Bokeh e análise estatística."
   ]
  },
  {
   "cell_type": "code",
   "execution_count": null,
   "metadata": {},
   "outputs": [],
   "source": [
    "import sys\n",
    "from pathlib import Path\n",
    "\n",
    "project_root = Path.cwd().parent\n",
    "sys.path.insert(0, str(project_root))\n",
    "\n",
    "from src.core import Config\n",
    "from src.results import BenchmarkVisualizer, ResultsAnalyzer\n",
    "\n",
    "print(\"✅ Setup completo!\")"
   ]
  },
  {
   "cell_type": "code",
   "execution_count": null,
   "metadata": {},
   "outputs": [],
   "source": [
    "config = Config(project_root=project_root)\n",
    "\n",
    "analyzer = ResultsAnalyzer(config.results_path)\n",
    "visualizer = BenchmarkVisualizer(config.results_path)\n",
    "visualizer.enable_notebook_mode()"
   ]
  },
  {
   "cell_type": "code",
   "execution_count": null,
   "metadata": {},
   "outputs": [],
   "source": [
    "# Carrega benchmark\n",
    "benchmark_name = 'epochs_benchmark'\n",
    "benchmark_data = analyzer.load_benchmark(benchmark_name)"
   ]
  },
  {
   "cell_type": "code",
   "execution_count": null,
   "metadata": {},
   "outputs": [],
   "source": [
    "# Visualização interativa\n",
    "output_html = visualizer.visualize_benchmark(benchmark_data, show_plot=True)"
   ]
  },
  {
   "cell_type": "code",
   "execution_count": null,
   "metadata": {},
   "outputs": [],
   "source": [
    "# Análise de impacto\n",
    "impact = analyzer.analyze_parameter_impact(benchmark_data, 'epochs', 'mAP50-95')\n",
    "print(impact)"
   ]
  },
  {
   "cell_type": "code",
   "execution_count": null,
   "metadata": {},
   "outputs": [],
   "source": [
    "# Gera relatório\n",
    "report = analyzer.generate_report(benchmark_data)\n",
    "print(report)"
   ]
  }
 ],
 "metadata": {
  "kernelspec": {
   "display_name": "Python 3",
   "language": "python",
   "name": "python3"
  }
 },
 "nbformat": 4,
 "nbformat_minor": 4
}
