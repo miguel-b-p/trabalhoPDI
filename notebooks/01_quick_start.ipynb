{
 "cells": [
  {
   "cell_type": "markdown",
   "metadata": {},
   "source": [
    "# 🚀 Quick Start - YOLO Benchmark System\n",
    "\n",
    "Este notebook demonstra o uso básico do sistema de benchmark YOLO.\n",
    "\n",
    "## Pré-requisitos\n",
    "\n",
    "- Dataset YOLO preparado com arquivo `data.yaml`\n",
    "- Ambiente virtual ativado com todas as dependências instaladas"
   ]
  },
  {
   "cell_type": "markdown",
   "metadata": {},
   "source": [
    "## 1. Setup Inicial"
   ]
  },
  {
   "cell_type": "code",
   "execution_count": null,
   "metadata": {},
   "outputs": [],
   "source": [
    "import sys\n",
    "from pathlib import Path\n",
    "\n",
    "# Adiciona src ao path\n",
    "project_root = Path.cwd().parent\n",
    "sys.path.insert(0, str(project_root))\n",
    "\n",
    "print(f\"Project root: {project_root}\")"
   ]
  },
  {
   "cell_type": "markdown",
   "metadata": {},
   "source": [
    "## 2. Interface Interativa\n",
    "\n",
    "A forma mais fácil de usar o sistema é através da interface interativa:"
   ]
  },
  {
   "cell_type": "code",
   "execution_count": null,
   "metadata": {},
   "outputs": [],
   "source": [
    "from src.interface import YOLOBenchmarkInterface\n",
    "\n",
    "# Inicializa interface\n",
    "interface = YOLOBenchmarkInterface(project_root=project_root)\n",
    "\n",
    "# Exibe interface\n",
    "interface.show()"
   ]
  },
  {
   "cell_type": "markdown",
   "metadata": {},
   "source": [
    "## 3. Uso Programático (Opcional)\n",
    "\n",
    "Se preferir usar a API Python diretamente:"
   ]
  },
  {
   "cell_type": "code",
   "execution_count": null,
   "metadata": {},
   "outputs": [],
   "source": [
    "from src.core import Config\n",
    "\n",
    "# Cria configuração\n",
    "config = Config(project_root=project_root)\n",
    "\n",
    "print(f\"Data path: {config.data_path}\")\n",
    "print(f\"Models path: {config.models_path}\")\n",
    "print(f\"Results path: {config.results_path}\")"
   ]
  },
  {
   "cell_type": "markdown",
   "metadata": {},
   "source": [
    "## 4. Próximos Passos\n",
    "\n",
    "Explore os outros notebooks:\n",
    "\n",
    "- `02_training.ipynb`: Treinamento individual de modelos\n",
    "- `03_benchmark.ipynb`: Sistema completo de benchmark\n",
    "- `04_analysis.ipynb`: Análise e visualização de resultados"
   ]
  }
 ],
 "metadata": {
  "kernelspec": {
   "display_name": "Python 3",
   "language": "python",
   "name": "python3"
  },
  "language_info": {
   "codemirror_mode": {
    "name": "ipython",
    "version": 3
   },
   "file_extension": ".py",
   "mimetype": "text/x-python",
   "name": "python",
   "nbconvert_exporter": "python",
   "pygments_lexer": "ipython3",
   "version": "3.10.0"
  }
 },
 "nbformat": 4,
 "nbformat_minor": 4
}
