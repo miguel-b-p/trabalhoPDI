{
 "cells": [
  {
   "cell_type": "markdown",
   "metadata": {},
   "source": [
    "# 🎯 Treinamento Individual - YOLO\n",
    "\n",
    "Este notebook demonstra como treinar modelos YOLO individuais com diferentes configurações."
   ]
  },
  {
   "cell_type": "markdown",
   "metadata": {},
   "source": [
    "## Setup"
   ]
  },
  {
   "cell_type": "code",
   "execution_count": null,
   "metadata": {},
   "outputs": [],
   "source": [
    "import sys\n",
    "from pathlib import Path\n",
    "\n",
    "project_root = Path.cwd().parent\n",
    "sys.path.insert(0, str(project_root))\n",
    "\n",
    "from src.core import Config, YOLOTrainer\n",
    "\n",
    "print(\"✅ Imports realizados com sucesso!\")"
   ]
  },
  {
   "cell_type": "markdown",
   "metadata": {},
   "source": [
    "## 1. Configuração Básica"
   ]
  },
  {
   "cell_type": "code",
   "execution_count": null,
   "metadata": {},
   "outputs": [],
   "source": [
    "# Cria configuração\n",
    "config = Config(project_root=project_root)\n",
    "\n",
    "# Ajusta parâmetros\n",
    "config.model_name = 'yolo11n.pt'\n",
    "config.epochs = 50\n",
    "config.batch_size = 16\n",
    "config.imgsz = 640\n",
    "config.device = 'cuda'  # ou 'cpu'\n",
    "config.optimizer = 'Adam'\n",
    "config.lr0 = 0.01\n",
    "\n",
    "print(\"Configuração:\")\n",
    "print(f\"  Modelo: {config.model_name}\")\n",
    "print(f\"  Epochs: {config.epochs}\")\n",
    "print(f\"  Batch: {config.batch_size}\")\n",
    "print(f\"  Device: {config.device}\")"
   ]
  },
  {
   "cell_type": "markdown",
   "metadata": {},
   "source": [
    "## 2. Preparar Dataset\n",
    "\n",
    "**IMPORTANTE**: Atualize o caminho do dataset abaixo!"
   ]
  },
  {
   "cell_type": "code",
   "execution_count": null,
   "metadata": {},
   "outputs": [],
   "source": [
    "# ATUALIZE ESTE CAMINHO COM SEU DATASET\n",
    "dataset_path = '/path/to/your/data.yaml'\n",
    "\n",
    "# Verifica se existe\n",
    "if not Path(dataset_path).exists():\n",
    "    print(f\"⚠️  Dataset não encontrado: {dataset_path}\")\n",
    "    print(\"Por favor, atualize o caminho acima!\")\n",
    "else:\n",
    "    print(f\"✅ Dataset encontrado: {dataset_path}\")"
   ]
  },
  {
   "cell_type": "markdown",
   "metadata": {},
   "source": [
    "## 3. Inicializar Trainer"
   ]
  },
  {
   "cell_type": "code",
   "execution_count": null,
   "metadata": {},
   "outputs": [],
   "source": [
    "# Cria trainer\n",
    "trainer = YOLOTrainer(config)\n",
    "\n",
    "# Carrega modelo\n",
    "model = trainer.load_model()\n",
    "\n",
    "print(f\"✅ Modelo {config.model_name} carregado com sucesso!\")"
   ]
  },
  {
   "cell_type": "markdown",
   "metadata": {},
   "source": [
    "## 4. Treinar Modelo"
   ]
  },
  {
   "cell_type": "code",
   "execution_count": null,
   "metadata": {},
   "outputs": [],
   "source": [
    "# Treina\n",
    "metrics = trainer.train(\n",
    "    data=dataset_path,\n",
    "    name='training_example'\n",
    ")\n",
    "\n",
    "print(\"\\n\" + \"=\"*60)\n",
    "print(\"RESULTADOS DO TREINAMENTO\")\n",
    "print(\"=\"*60)\n",
    "print(f\"Tempo de treinamento: {metrics.get('training_time', 0):.2f}s\")\n",
    "print(f\"mAP50: {metrics.get('mAP50', 0):.2%}\")\n",
    "print(f\"mAP50-95: {metrics.get('mAP50-95', 0):.2%}\")"
   ]
  },
  {
   "cell_type": "markdown",
   "metadata": {},
   "source": [
    "## 5. Validação"
   ]
  },
  {
   "cell_type": "code",
   "execution_count": null,
   "metadata": {},
   "outputs": [],
   "source": [
    "# Valida modelo\n",
    "val_metrics = trainer.validate(data=dataset_path)\n",
    "\n",
    "print(\"\\n\" + \"=\"*60)\n",
    "print(\"MÉTRICAS DE VALIDAÇÃO\")\n",
    "print(\"=\"*60)\n",
    "for key, value in val_metrics.items():\n",
    "    print(f\"{key}: {value}\")"
   ]
  },
  {
   "cell_type": "markdown",
   "metadata": {},
   "source": [
    "## 6. Histórico de Treinamento"
   ]
  },
  {
   "cell_type": "code",
   "execution_count": null,
   "metadata": {},
   "outputs": [],
   "source": [
    "import pandas as pd\n",
    "\n",
    "# Obtém histórico\n",
    "history = trainer.get_training_history()\n",
    "\n",
    "if history:\n",
    "    # Converte para DataFrame\n",
    "    df = pd.DataFrame(history)\n",
    "    display(df[['name', 'timestamp', 'training_time']])\n",
    "else:\n",
    "    print(\"Nenhum histórico disponível\")"
   ]
  },
  {
   "cell_type": "markdown",
   "metadata": {},
   "source": [
    "## 7. Experimentar com Diferentes Configurações"
   ]
  },
  {
   "cell_type": "code",
   "execution_count": null,
   "metadata": {},
   "outputs": [],
   "source": [
    "# Teste 1: Batch size maior\n",
    "print(\"Teste 1: Batch size 32\")\n",
    "metrics_1 = trainer.train(\n",
    "    data=dataset_path,\n",
    "    name='test_batch_32',\n",
    "    batch=32\n",
    ")\n",
    "\n",
    "# Teste 2: Learning rate diferente\n",
    "print(\"\\nTeste 2: Learning rate 0.001\")\n",
    "metrics_2 = trainer.train(\n",
    "    data=dataset_path,\n",
    "    name='test_lr_0001',\n",
    "    lr0=0.001\n",
    ")\n",
    "\n",
    "# Compara resultados\n",
    "print(\"\\n\" + \"=\"*60)\n",
    "print(\"COMPARAÇÃO\")\n",
    "print(\"=\"*60)\n",
    "print(f\"Batch 32 - mAP50-95: {metrics_1.get('mAP50-95', 0):.2%}\")\n",
    "print(f\"LR 0.001 - mAP50-95: {metrics_2.get('mAP50-95', 0):.2%}\")"
   ]
  },
  {
   "cell_type": "markdown",
   "metadata": {},
   "source": [
    "## 8. Exportar Modelo"
   ]
  },
  {
   "cell_type": "code",
   "execution_count": null,
   "metadata": {},
   "outputs": [],
   "source": [
    "# Exporta para ONNX\n",
    "export_path = trainer.export_model(format='onnx')\n",
    "\n",
    "print(f\"✅ Modelo exportado para: {export_path}\")"
   ]
  },
  {
   "cell_type": "markdown",
   "metadata": {},
   "source": [
    "## Próximos Passos\n",
    "\n",
    "- Veja `03_benchmark.ipynb` para testar múltiplos parâmetros automaticamente\n",
    "- Veja `04_analysis.ipynb` para análise detalhada dos resultados"
   ]
  }
 ],
 "metadata": {
  "kernelspec": {
   "display_name": "Python 3",
   "language": "python",
   "name": "python3"
  },
  "language_info": {
   "codemirror_mode": {
    "name": "ipython",
    "version": 3
   },
   "file_extension": ".py",
   "mimetype": "text/x-python",
   "name": "python",
   "nbconvert_exporter": "python",
   "pygments_lexer": "ipython3",
   "version": "3.10.0"
  }
 },
 "nbformat": 4,
 "nbformat_minor": 4
}
